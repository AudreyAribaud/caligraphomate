{
 "cells": [
  {
   "cell_type": "markdown",
   "id": "532c7bf8-defb-44e8-b152-a548f8167ac6",
   "metadata": {},
   "source": [
    "# LeRobot Notebook"
   ]
  },
  {
   "cell_type": "code",
   "execution_count": null,
   "id": "e0e5d484",
   "metadata": {},
   "outputs": [],
   "source": [
    "import sys\n",
    "from lerobot import *"
   ]
  },
  {
   "cell_type": "code",
   "execution_count": null,
   "id": "68fb948e",
   "metadata": {},
   "outputs": [],
   "source": [
    "!python -m lerobot.scripts.visualize_dataset --help"
   ]
  },
  {
   "cell_type": "code",
   "execution_count": null,
   "id": "d3b3a34a",
   "metadata": {},
   "outputs": [],
   "source": [
    "!python -m lerobot.scripts.visualize_dataset --repo-id lerobot/pusht --episode-index 0"
   ]
  }
 ],
 "metadata": {
  "kernelspec": {
   "display_name": "Python 3",
   "language": "python",
   "name": "python3"
  },
  "language_info": {
   "codemirror_mode": {
    "name": "ipython",
    "version": 3
   },
   "file_extension": ".py",
   "mimetype": "text/x-python",
   "name": "python",
   "nbconvert_exporter": "python",
   "pygments_lexer": "ipython3",
   "version": "3.13.5"
  }
 },
 "nbformat": 4,
 "nbformat_minor": 5
}
